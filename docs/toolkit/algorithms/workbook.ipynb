{
 "cells": [
  {
   "cell_type": "markdown",
   "metadata": {},
   "source": [
    "# Jupyter Workbook"
   ]
  },
  {
   "cell_type": "markdown",
   "metadata": {},
   "source": [
    "I will be using this document to work on the problems to be able to run them."
   ]
  },
  {
   "cell_type": "markdown",
   "metadata": {},
   "source": [
    "## Sliding Window"
   ]
  },
  {
   "cell_type": "code",
   "execution_count": 16,
   "metadata": {},
   "outputs": [
    {
     "name": "stdout",
     "output_type": "stream",
     "text": [
      "[2, 2, 1, 6]\n"
     ]
    }
   ],
   "source": [
    "from collections import deque\n",
    "\n",
    "def find_max_sliding_window(nums, window_size):\n",
    "    result = []\n",
    "    window = deque()\n",
    "\n",
    "    if len(nums) == 0:\n",
    "        return result\n",
    "    if window_size > len(nums):\n",
    "        window_size = len(nums)\n",
    "\n",
    "    # Find out first maximum in the first window\n",
    "    for i in range(window_size):\n",
    "        while window and nums[i] >= nums[window[-1]]:\n",
    "            window.pop()\n",
    "        window.append(i)\n",
    "\n",
    "    result.append(nums[window[0]])\n",
    "\n",
    "    for i in range(window_size, len(nums)):\n",
    "        while window and nums[i] >= nums[window[-1]]:\n",
    "            window.pop()\n",
    "        if window and window[0] <= (i - window_size):\n",
    "            window.popleft()\n",
    "        window.append(i)\n",
    "        result.append(nums[window[0]])\n",
    "\n",
    "    return result\n",
    "\n",
    "\n",
    "def main():\n",
    "    print(find_max_sliding_window([-4,2,-5,1,-1,6], 3))\n",
    "\n",
    "\n",
    "if __name__ == '__main__':\n",
    "    main()"
   ]
  },
  {
   "cell_type": "code",
   "execution_count": null,
   "metadata": {},
   "outputs": [],
   "source": []
  }
 ],
 "metadata": {
  "kernelspec": {
   "display_name": "Python 3.9.11 64-bit ('python3911')",
   "language": "python",
   "name": "python3"
  },
  "language_info": {
   "codemirror_mode": {
    "name": "ipython",
    "version": 3
   },
   "file_extension": ".py",
   "mimetype": "text/x-python",
   "name": "python",
   "nbconvert_exporter": "python",
   "pygments_lexer": "ipython3",
   "version": "3.9.11"
  },
  "orig_nbformat": 4,
  "vscode": {
   "interpreter": {
    "hash": "6847d3fd7db33f7750eac5fa23588643e99034e725f018b8568de9d2f2d646c0"
   }
  }
 },
 "nbformat": 4,
 "nbformat_minor": 2
}
